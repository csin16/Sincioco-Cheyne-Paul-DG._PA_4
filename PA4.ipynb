{
 "cells": [
  {
   "cell_type": "markdown",
   "id": "1c068d94",
   "metadata": {},
   "source": [
    "ECE BOARD EXAM PROBLEM"
   ]
  },
  {
   "cell_type": "code",
   "execution_count": 1,
   "id": "bf14697e",
   "metadata": {},
   "outputs": [],
   "source": [
    "import pandas as pd"
   ]
  },
  {
   "cell_type": "code",
   "execution_count": 9,
   "id": "14e065a4",
   "metadata": {},
   "outputs": [],
   "source": [
    "df = pd.read_excel('board2.xlsx') #Loads the board2 file "
   ]
  },
  {
   "cell_type": "code",
   "execution_count": 3,
   "id": "70dd3110",
   "metadata": {},
   "outputs": [
    {
     "data": {
      "text/plain": [
       "'a.)'"
      ]
     },
     "metadata": {},
     "output_type": "display_data"
    },
    {
     "data": {
      "text/html": [
       "<div>\n",
       "<style scoped>\n",
       "    .dataframe tbody tr th:only-of-type {\n",
       "        vertical-align: middle;\n",
       "    }\n",
       "\n",
       "    .dataframe tbody tr th {\n",
       "        vertical-align: top;\n",
       "    }\n",
       "\n",
       "    .dataframe thead th {\n",
       "        text-align: right;\n",
       "    }\n",
       "</style>\n",
       "<table border=\"1\" class=\"dataframe\">\n",
       "  <thead>\n",
       "    <tr style=\"text-align: right;\">\n",
       "      <th></th>\n",
       "      <th>Name</th>\n",
       "      <th>GEAS</th>\n",
       "      <th>Electronics</th>\n",
       "    </tr>\n",
       "  </thead>\n",
       "  <tbody>\n",
       "    <tr>\n",
       "      <th>0</th>\n",
       "      <td>S1</td>\n",
       "      <td>75</td>\n",
       "      <td>89</td>\n",
       "    </tr>\n",
       "    <tr>\n",
       "      <th>7</th>\n",
       "      <td>S8</td>\n",
       "      <td>64</td>\n",
       "      <td>81</td>\n",
       "    </tr>\n",
       "    <tr>\n",
       "      <th>29</th>\n",
       "      <td>S30</td>\n",
       "      <td>57</td>\n",
       "      <td>81</td>\n",
       "    </tr>\n",
       "  </tbody>\n",
       "</table>\n",
       "</div>"
      ],
      "text/plain": [
       "   Name  GEAS  Electronics\n",
       "0    S1    75           89\n",
       "7    S8    64           81\n",
       "29  S30    57           81"
      ]
     },
     "metadata": {},
     "output_type": "display_data"
    }
   ],
   "source": [
    "#Locates the element's electronics grade if it is higher than 70, their hometown is Luzon, and their track is instrumentation\n",
    "#Also diplays their name, and the subjects, GEAS and Electronics\n",
    "Instru = df.loc[(df['Electronics'] > 70) & (df['Hometown']=='Luzon') & (df['Track']=='Instrumentation'), ['Name', 'GEAS', 'Electronics']] \n",
    "display('a.)', Instru)"
   ]
  },
  {
   "cell_type": "code",
   "execution_count": 8,
   "id": "35ea7b63",
   "metadata": {},
   "outputs": [
    {
     "data": {
      "text/plain": [
       "'b.)'"
      ]
     },
     "metadata": {},
     "output_type": "display_data"
    },
    {
     "data": {
      "text/html": [
       "<div>\n",
       "<style scoped>\n",
       "    .dataframe tbody tr th:only-of-type {\n",
       "        vertical-align: middle;\n",
       "    }\n",
       "\n",
       "    .dataframe tbody tr th {\n",
       "        vertical-align: top;\n",
       "    }\n",
       "\n",
       "    .dataframe thead th {\n",
       "        text-align: right;\n",
       "    }\n",
       "</style>\n",
       "<table border=\"1\" class=\"dataframe\">\n",
       "  <thead>\n",
       "    <tr style=\"text-align: right;\">\n",
       "      <th></th>\n",
       "      <th>Name</th>\n",
       "      <th>Track</th>\n",
       "      <th>Electronics</th>\n",
       "      <th>Average</th>\n",
       "    </tr>\n",
       "  </thead>\n",
       "  <tbody>\n",
       "    <tr>\n",
       "      <th>1</th>\n",
       "      <td>S2</td>\n",
       "      <td>Communication</td>\n",
       "      <td>75</td>\n",
       "      <td>67.25</td>\n",
       "    </tr>\n",
       "    <tr>\n",
       "      <th>2</th>\n",
       "      <td>S3</td>\n",
       "      <td>Instrumentation</td>\n",
       "      <td>74</td>\n",
       "      <td>72.75</td>\n",
       "    </tr>\n",
       "    <tr>\n",
       "      <th>14</th>\n",
       "      <td>S15</td>\n",
       "      <td>Microelectronics</td>\n",
       "      <td>41</td>\n",
       "      <td>59.00</td>\n",
       "    </tr>\n",
       "    <tr>\n",
       "      <th>16</th>\n",
       "      <td>S17</td>\n",
       "      <td>Microelectronics</td>\n",
       "      <td>79</td>\n",
       "      <td>70.50</td>\n",
       "    </tr>\n",
       "    <tr>\n",
       "      <th>19</th>\n",
       "      <td>S20</td>\n",
       "      <td>Communication</td>\n",
       "      <td>60</td>\n",
       "      <td>66.50</td>\n",
       "    </tr>\n",
       "  </tbody>\n",
       "</table>\n",
       "</div>"
      ],
      "text/plain": [
       "   Name             Track  Electronics  Average\n",
       "1    S2     Communication           75    67.25\n",
       "2    S3   Instrumentation           74    72.75\n",
       "14  S15  Microelectronics           41    59.00\n",
       "16  S17  Microelectronics           79    70.50\n",
       "19  S20     Communication           60    66.50"
      ]
     },
     "metadata": {},
     "output_type": "display_data"
    }
   ],
   "source": [
    "subs = ['Electronics', 'GEAS', 'Math', 'Communication'] #set a single variable for all the features/subjects\n",
    "df['Average'] = df[subs].mean(axis=1)#gets the average of the subjects per name\n",
    "#Locates the elements whose average is higher than or equal to 55, their hometown is Mindanao, and is a female\n",
    "#Also displays their name, track, electronics subject, and their average\n",
    "Mindy = df.loc[(df['Average'] >= 55) & (df['Hometown']=='Mindanao') & (df['Gender']=='Female'), ['Name', 'Track', 'Electronics', 'Average']]\n",
    "display('b.)' , Mindy)"
   ]
  },
  {
   "cell_type": "code",
   "execution_count": 46,
   "id": "0f804667-6fe6-47dd-b09e-f62240df6953",
   "metadata": {},
   "outputs": [
    {
     "data": {
      "text/plain": [
       "<BarContainer object of 30 artists>"
      ]
     },
     "execution_count": 46,
     "metadata": {},
     "output_type": "execute_result"
    },
    {
     "data": {
      "image/png": "[encoded data removed]",
      "text/plain": [
       "<Figure size 800x300 with 1 Axes>"
      ]
     },
     "metadata": {},
     "output_type": "display_data"
    },
    {
     "data": {
      "image/png": "[encoded data removed]",
      "text/plain": [
       "<Figure size 800x300 with 1 Axes>"
      ]
     },
     "metadata": {},
     "output_type": "display_data"
    },
    {
     "data": {
      "image/png": "[encoded data removed]",
      "text/plain": [
       "<Figure size 800x300 with 1 Axes>"
      ]
     },
     "metadata": {},
     "output_type": "display_data"
    }
   ],
   "source": [
    "import matplotlib.pyplot as plt #Import matplot library as variable plt\n",
    "subs = ['Electronics', 'GEAS', 'Math', 'Communication'] #Set a single variable for all the features/subjects\n",
    "df['Average'] = df[subs].mean(axis=1) #Gets the average of the subjects per name\n",
    "\n",
    "plt.figure(figsize=(8, 3)) #Width and length of the plot\n",
    "plt.bar(df['Gender'], df['Average']) #X as the gender and y as the average, shows the average based on their gender\n",
    "\n",
    "plt.figure(figsize=(8, 3))\n",
    "plt.bar(df['Track'], df['Average']) #X as the track and y as the average, shows the average based on their track\n",
    "\n",
    "plt.figure(figsize=(8, 3))\n",
    "plt.bar(df['Hometown'], df['Average']) #X as the hometown and y as the average, shows the average based on their hometown\n"
   ]
  },
  {
   "cell_type": "code",
   "execution_count": null,
   "id": "9fa9596f-d0ff-4853-9126-9776dce34224",
   "metadata": {},
   "outputs": [],
   "source": []
  }
 ],
 "metadata": {
  "kernelspec": {
   "display_name": "Python 3 (ipykernel)",
   "language": "python",
   "name": "python3"
  },
  "language_info": {
   "codemirror_mode": {
    "name": "ipython",
    "version": 3
   },
   "file_extension": ".py",
   "mimetype": "text/x-python",
   "name": "python",
   "nbconvert_exporter": "python",
   "pygments_lexer": "ipython3",
   "version": "3.13.5"
  }
 },
 "nbformat": 4,
 "nbformat_minor": 5
}
